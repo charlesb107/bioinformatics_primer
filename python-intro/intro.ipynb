{
 "cells": [
  {
   "cell_type": "markdown",
   "metadata": {},
   "source": [
    "# Intro to Python: Strings, Lists, and Tuples\n",
    "\n",
    "> “Any fool can write code that a computer can understand. Good programmers write code that humans can understand.” - Martin Fowler\n",
    "\n",
    "Let's use our familiar \"Hello, World!\" to get started. In bash, we used either `echo` or `printf` to print messages to the screen. The arguments to those functions (that is, the bits we wanted printed) were separated by whitespace (any amount) and may or may not be in quotes. E.g., all these would print the same thing:\n",
    "\n",
    "```\n",
    "$ echo Hello, World\n",
    "$ echo \"Hello,\" \"World\"\n",
    "$ echo \"Hello, World\"\n",
    "$ printf \"%s, %s\\n\" Hello World\n",
    "$ printf \"%s, %s\\n\" \"Hello\" \"World\"\n",
    "$ printf \"%s\\n\" \"Hello, World\"\n",
    "```\n",
    "\n",
    "In Python, the function to print is, unsurprisingly, called `print()` -- note the parentheses are necessary. The arguments go into the parens and must be in quotes (single or double, it doesn't matter, unlike bash) if they are plain strings. If you pass multiple arguments, `print()` will put a space in between them."
   ]
  },
  {
   "cell_type": "code",
   "execution_count": 16,
   "metadata": {},
   "outputs": [
    {
     "name": "stdout",
     "output_type": "stream",
     "text": [
      "Hello, World!\n"
     ]
    }
   ],
   "source": [
    "print('Hello, World!')"
   ]
  },
  {
   "cell_type": "code",
   "execution_count": 17,
   "metadata": {},
   "outputs": [
    {
     "name": "stdout",
     "output_type": "stream",
     "text": [
      "Hello, World!\n"
     ]
    }
   ],
   "source": [
    "print('Hello,', 'World!')"
   ]
  },
  {
   "cell_type": "code",
   "execution_count": 18,
   "metadata": {},
   "outputs": [
    {
     "name": "stdout",
     "output_type": "stream",
     "text": [
      "Hello, World!\n"
     ]
    }
   ],
   "source": [
    "print('Hello, ' + 'World' + '!')"
   ]
  },
  {
   "cell_type": "markdown",
   "metadata": {},
   "source": [
    "Note that, like `echo`, `print()` will automatically add a newline (whereas `printf` in bash does not). If you don't want that, you can pass an optional, named argument `end` to indicate what should be printed at the end:"
   ]
  },
  {
   "cell_type": "code",
   "execution_count": 12,
   "metadata": {},
   "outputs": [
    {
     "name": "stdout",
     "output_type": "stream",
     "text": [
      "Hello, World!\n"
     ]
    }
   ],
   "source": [
    "print('Hello, ', end='')\n",
    "print('World!')"
   ]
  },
  {
   "cell_type": "code",
   "execution_count": 14,
   "metadata": {},
   "outputs": [
    {
     "name": "stdout",
     "output_type": "stream",
     "text": [
      "Hello, World!\n"
     ]
    }
   ],
   "source": [
    "print('Hello', end=', ')\n",
    "print('World!')"
   ]
  },
  {
   "cell_type": "markdown",
   "metadata": {},
   "source": [
    "If we are going to put this into a script, we will need to change to the \"shebang\" line to point to some version of Python 3. I'm going to use `env` to find `python3` so I won't have a hard-coded path that my user will have to change:\n",
    "\n",
    "```\n",
    "$ cat -n hello.py\n",
    "     1\t#!/usr/bin/env python3\n",
    "     2\n",
    "     3\tprint('Hello, World!')\n",
    "$ ./hello.py\n",
    "Hello, World!\n",
    "```\n",
    "\n",
    "## Variables\n",
    "\n",
    "Let's use a variable to hold the name of the person we are greeting. We create a variable called `name` which we assign the value \"the Dude.\""
   ]
  },
  {
   "cell_type": "code",
   "execution_count": 1,
   "metadata": {},
   "outputs": [
    {
     "name": "stdout",
     "output_type": "stream",
     "text": [
      "Hello, the Dude !\n"
     ]
    }
   ],
   "source": [
    "name = 'the Dude'\n",
    "print('Hello,', name, '!')"
   ]
  },
  {
   "cell_type": "markdown",
   "metadata": {},
   "source": [
    "We can't put it directly in the string because then it just looks like a bit of text to print:"
   ]
  },
  {
   "cell_type": "code",
   "execution_count": 2,
   "metadata": {},
   "outputs": [
    {
     "name": "stdout",
     "output_type": "stream",
     "text": [
      "Hello, name!\n",
      "Hello, Duder !\n"
     ]
    }
   ],
   "source": [
    "name = 'Duder'\n",
    "print('Hello, name!')\n",
    "print('Hello,', name, '!')"
   ]
  },
  {
   "cell_type": "markdown",
   "metadata": {},
   "source": [
    "We could to use the `+` operator to concatenate it to the literal string \"Hello, \". Note that is a way to get rid of the space before the exclamation point."
   ]
  },
  {
   "cell_type": "code",
   "execution_count": 26,
   "metadata": {},
   "outputs": [
    {
     "name": "stdout",
     "output_type": "stream",
     "text": [
      "Hello, El Duderino!\n"
     ]
    }
   ],
   "source": [
    "name = 'El Duderino'\n",
    "print('Hello, ' + name + '!')"
   ]
  },
  {
   "cell_type": "markdown",
   "metadata": {},
   "source": [
    "Or we could use a `format` string with a placeholder `{}` for where the value of the variable should go:"
   ]
  },
  {
   "cell_type": "code",
   "execution_count": 4,
   "metadata": {},
   "outputs": [
    {
     "name": "stdout",
     "output_type": "stream",
     "text": [
      "Abide, His Dudeness!\n"
     ]
    }
   ],
   "source": [
    "print('Abide, {}!'.format('His Dudeness'))"
   ]
  },
  {
   "cell_type": "markdown",
   "metadata": {},
   "source": [
    "Variables can point to many more things than strings! They can also represent numbers like integers and floating point numbers as well as more complicated types like tuples, lists, dictionaries, and more."
   ]
  },
  {
   "cell_type": "markdown",
   "metadata": {},
   "source": [
    "## Our first list: Command-line Arguments\n",
    "\n",
    "NB: It may seem soon to talk about command-line arguments, but this course focuses on writing command-line programs that accept arguments, so we need to talk about this right away!\n",
    "\n",
    "To say \"hello\" to an argument passed from the command line, we need the `sys` module. A module is a package of code we can use. First, let's just take a look at command-line arguments using `sys.argv` (argument vector):\n",
    "\n",
    "```\n",
    "$ cat -n argv.py\n",
    "     1\t#!/usr/bin/env python3\n",
    "     2\n",
    "     3\timport sys\n",
    "     4\n",
    "     5\tprint(sys.argv)\n",
    "$ ./argv.py foo bar baz\n",
    "['./argv.py', 'foo', 'bar', 'baz']\n",
    "```\n",
    "\n",
    "Oddly, the first element in the argument vector is the name of the program itself, the string `./argv.py` followed by the *actual* arguments `foo bar baz`. All of these are given to us in a `list` which we can tell because they are represented inside square brackets `[]` and have commas separating each item. Those items are in quotes, so we know they are strings. Even if we type numbers on the command line, they still come in as strings:\n",
    "\n",
    "```\n",
    "$ ./argv.py 1 2 3\n",
    "['./argv.py', '1', '2', '3']\n",
    "```\n",
    "\n",
    "Let's talk for a moment about lists and how we can get bits out of them. We can type in lists in just the same syntax as they are displayed, that is with `[]` and the elements separated by commas:"
   ]
  },
  {
   "cell_type": "code",
   "execution_count": 5,
   "metadata": {},
   "outputs": [
    {
     "name": "stdout",
     "output_type": "stream",
     "text": [
      "['./argv.py', 'foo', 'bar', 'baz']\n"
     ]
    }
   ],
   "source": [
    "args = ['./argv.py', 'foo', 'bar', 'baz']\n",
    "print(args)"
   ]
  },
  {
   "cell_type": "markdown",
   "metadata": {},
   "source": [
    "We use the `len` function to get the length of strings:"
   ]
  },
  {
   "cell_type": "code",
   "execution_count": 12,
   "metadata": {},
   "outputs": [
    {
     "data": {
      "text/plain": [
       "6"
      ]
     },
     "execution_count": 12,
     "metadata": {},
     "output_type": "execute_result"
    }
   ],
   "source": [
    "len('foobar')"
   ]
  },
  {
   "cell_type": "markdown",
   "metadata": {},
   "source": [
    "And lists:"
   ]
  },
  {
   "cell_type": "code",
   "execution_count": 13,
   "metadata": {},
   "outputs": [
    {
     "data": {
      "text/plain": [
       "4"
      ]
     },
     "execution_count": 13,
     "metadata": {},
     "output_type": "execute_result"
    }
   ],
   "source": [
    "args = ['./argv.py', 'foo', 'bar', 'baz']\n",
    "len(args)"
   ]
  },
  {
   "cell_type": "markdown",
   "metadata": {},
   "source": [
    "Watch this carefully though. This is a list with one element (the string \"foobar\"):"
   ]
  },
  {
   "cell_type": "code",
   "execution_count": 14,
   "metadata": {},
   "outputs": [
    {
     "data": {
      "text/plain": [
       "1"
      ]
     },
     "execution_count": 14,
     "metadata": {},
     "output_type": "execute_result"
    }
   ],
   "source": [
    "len(['foobar'])"
   ]
  },
  {
   "cell_type": "markdown",
   "metadata": {},
   "source": [
    "And this is a list with two elements:"
   ]
  },
  {
   "cell_type": "code",
   "execution_count": 15,
   "metadata": {},
   "outputs": [
    {
     "data": {
      "text/plain": [
       "2"
      ]
     },
     "execution_count": 15,
     "metadata": {},
     "output_type": "execute_result"
    }
   ],
   "source": [
    "len(['foo', 'bar'])"
   ]
  },
  {
   "cell_type": "markdown",
   "metadata": {},
   "source": [
    "As expected, there are four elements in `args`; however, if you have programmed in almost any other language, you have probably seen that language designers generally think of the first element as \"0\" or the \"zeroth\" element. The one after that is the first offset and so is in position \"1\". So to talk about the *actual* first element, we have to use `0` for the position. We put this after the name of the list in square brackets, e.g. `[0]`:"
   ]
  },
  {
   "cell_type": "code",
   "execution_count": 30,
   "metadata": {},
   "outputs": [
    {
     "name": "stdout",
     "output_type": "stream",
     "text": [
      "first element = ./argv.py\n"
     ]
    }
   ],
   "source": [
    "args = ['./argv.py', 'foo', 'bar', 'baz']\n",
    "print('First element =', args[0])"
   ]
  },
  {
   "cell_type": "markdown",
   "metadata": {},
   "source": [
    "We can get more than one element using `[start:end]` notation inside the brackets:"
   ]
  },
  {
   "cell_type": "code",
   "execution_count": 33,
   "metadata": {},
   "outputs": [
    {
     "name": "stdout",
     "output_type": "stream",
     "text": [
      "Elements 1 to 3 = ['foo', 'bar']\n"
     ]
    }
   ],
   "source": [
    "args = ['./argv.py', 'foo', 'bar', 'baz']\n",
    "print('Elements 1 to 3 =', args[1:3])"
   ]
  },
  {
   "cell_type": "markdown",
   "metadata": {},
   "source": [
    "Wait, wat? We asked for elements 1 to 3, but the last element is not inclusive so we only got 1 to 2! OK, then we can ask for elements 1 to 4 even though there is no element 4:"
   ]
  },
  {
   "cell_type": "code",
   "execution_count": 36,
   "metadata": {},
   "outputs": [
    {
     "name": "stdout",
     "output_type": "stream",
     "text": [
      "Elements 1 to 3 = ['foo', 'bar', 'baz']\n"
     ]
    }
   ],
   "source": [
    "args = ['./argv.py', 'foo', 'bar', 'baz']\n",
    "print('Elements 1 to 3 =', args[1:4])"
   ]
  },
  {
   "cell_type": "markdown",
   "metadata": {},
   "source": [
    "Or a shorter way is to leave off the `end` argument and just go from the first offset to the end of the list:"
   ]
  },
  {
   "cell_type": "code",
   "execution_count": 37,
   "metadata": {},
   "outputs": [
    {
     "name": "stdout",
     "output_type": "stream",
     "text": [
      "Elements beyond 1 = ['foo', 'bar', 'baz']\n"
     ]
    }
   ],
   "source": [
    "args = ['./argv.py', 'foo', 'bar', 'baz']\n",
    "print('Elements beyond 1 =', args[1:])"
   ]
  },
  {
   "cell_type": "markdown",
   "metadata": {},
   "source": [
    "So, if you understand that, then this should make a little more sense. When I use `args[1]` I mean the *actual first argument to the script*:\n",
    "\n",
    "```\n",
    "$ cat -n hello_arg.py\n",
    "     1    #!/usr/bin/env python3\n",
    "     2\n",
    "     3    import sys\n",
    "     4\n",
    "     5    args = sys.argv\n",
    "     6    print('Hello, ' + args[1] + '!')\n",
    "$ ./hello_arg.py Ken\n",
    "Hello, Ken!\n",
    "```\n",
    "\n",
    "But there is a problem if we fail to pass any arguments:\n",
    "\n",
    "```\n",
    "$ ./hello_arg.py\n",
    "Traceback (most recent call last):\n",
    "  File \"./hello_arg.py\", line 6, in <module>\n",
    "    print('Hello, ' + args[1] + '!')\n",
    "IndexError: list index out of range\n",
    "```\n",
    "\n",
    "We tried to access something in `args` that doesn't exist, and so the entire program came to a halt (\"crashed\"). As in bash, we need to check how many arguments we have:\n",
    "\n",
    "```\n",
    "$ cat -n hello_arg2.py\n",
    "     1    #!/usr/bin/env python3\n",
    "     2\n",
    "     3    import sys\n",
    "     4\n",
    "     5    args = sys.argv\n",
    "     6\n",
    "     7    if len(args) < 2:\n",
    "     8        print('Usage:', args[0], 'NAME')\n",
    "     9        sys.exit(1)\n",
    "    10\n",
    "    11    print('Hello, ' + args[1] + '!')\n",
    "```\n",
    "\n",
    "If there are fewer than 2 arguments (remembering that the script name is in the \"first\" position), then we print a usage statement and use `sys.exit` to send the operating system a non-zero exit status (remember that \"0\" means \"zero errors\"), just like in bash. It works much better now:\n",
    "\n",
    "```\n",
    "$ ./hello_arg2.py\n",
    "Usage: ./hello_arg2.py NAME\n",
    "$ ./hello_arg2.py Ken\n",
    "Hello, Ken!\n",
    "```"
   ]
  },
  {
   "cell_type": "code",
   "execution_count": 2,
   "metadata": {},
   "outputs": [
    {
     "ename": "IndentationError",
     "evalue": "unindent does not match any outer indentation level (<tokenize>, line 64)",
     "output_type": "error",
     "traceback": [
      "\u001b[0;36m  File \u001b[0;32m\"<tokenize>\"\u001b[0;36m, line \u001b[0;32m64\u001b[0m\n\u001b[0;31m    10\u001b[0m\n\u001b[0m    ^\u001b[0m\n\u001b[0;31mIndentationError\u001b[0m\u001b[0;31m:\u001b[0m unindent does not match any outer indentation level\n"
     ]
    }
   ],
   "source": [
    "Here is the same functionality but using two new functions, `printf` (from the base package) and `os.path.basename`:\n",
    "\n",
    "```\n",
    "$ cat -n hello_arg3.py\n",
    "     1    #!/usr/bin/env python3\n",
    "     2    \"\"\"hello with args\"\"\"\n",
    "     3\n",
    "     4    import sys\n",
    "     5    import os\n",
    "     6\n",
    "     7    args = sys.argv\n",
    "     8\n",
    "     9    if len(args) != 2:\n",
    "    10        script = os.path.basename(args[0])\n",
    "    11        print('Usage: {} NAME'.format(script))\n",
    "    12        sys.exit(1)\n",
    "    13\n",
    "    14    name = args[1]\n",
    "    15    print('Hello, {}!'.format(name))\n",
    "$ ./hello_arg3.py\n",
    "Usage: hello_arg3.py NAME\n",
    "$ ./hello_arg3.py Professor\n",
    "Hello, Professor!\n",
    "```\n",
    "\n",
    "Notice the usage doesn't have a \"./\" on the script name because we used `basename` to clean it up.\n",
    "\n",
    "## main()\n",
    "\n",
    "Lastly, let me introduce the `main` function. Many languages (e.g., Python, Perl, Rust, Haskell) have the idea of a \"main\" module/function where all the processing starts. If you define a \"main\" function, most people reading your code would understand that the program ought to begin there. I usually put my \"main\" as the first `def` (the keyword to \"define\" a function), and then use call it at the end of the script. It's a bit of a hack, but it seems to be standard Python.\n",
    "\n",
    "```\n",
    "$ cat -n hello_arg4.py\n",
    "     1\t#!/usr/bin/env python3\n",
    "     2\t\"\"\"hello with args/main\"\"\"\n",
    "     3\n",
    "     4\timport sys\n",
    "     5\timport os\n",
    "     6\n",
    "     7\n",
    "     8\tdef main():\n",
    "     9\t    \"\"\"main\"\"\"\n",
    "    10\t    args = sys.argv\n",
    "    11\n",
    "    12\t    if len(args) != 2:\n",
    "    13\t        script = os.path.basename(args[0])\n",
    "    14\t        print('Usage: {} NAME'.format(script))\n",
    "    15\t        sys.exit(1)\n",
    "    16\n",
    "    17\t    name = args[1]\n",
    "    18\t    print('Hello, {}!'.format(name))\n",
    "    19\n",
    "    20\n",
    "    21\tmain()\n",
    "```\n",
    "\n",
    "## Function Order\n",
    "\n",
    "Note that you cannot put line 21 first because you cannot call a function that hasn't been defined (lexically) in the program yet. To add insult to injury, this is a **run-time error** -- meaning the mistake isn't caught by the compiler when the program is parsed into byte-code; instead the program just crashes.\n",
    "\n",
    "```\n",
    "$ cat -n func-def-order.py\n",
    "     1    #!/usr/bin/env python3\n",
    "     2\n",
    "     3    print('Starting the program')\n",
    "     4    foo()\n",
    "     5    print('Ending the program')\n",
    "     6\n",
    "     7    def foo():\n",
    "     8        print('This is foo')\n",
    "$ ./func-def-order.py\n",
    "Starting the program\n",
    "Traceback (most recent call last):\n",
    "  File \"./func-def-order.py\", line 4, in <module>\n",
    "    foo()\n",
    "NameError: name 'foo' is not defined\n",
    "```\n",
    "\n",
    "To contrast:\n",
    "\n",
    "```\n",
    "$ cat -n func-def-order2.py\n",
    "     1    #!/usr/bin/env python3\n",
    "     2\n",
    "     3    def foo():\n",
    "     4        print('This is foo')\n",
    "     5\n",
    "     6    print('Starting the program')\n",
    "     7    foo()\n",
    "     8    print('Ending the program')\n",
    "$ ./func-def-order2.py\n",
    "Starting the program\n",
    "This is foo\n",
    "Ending the program\n",
    "```\n",
    "\n",
    "## Handle All The Args!\n",
    "\n",
    "If we like, we can say \"hi\" to any number of arguments:\n",
    "\n",
    "```\n",
    "$ cat -n hello_arg5.py\n",
    "     1\t#!/usr/bin/env python3\n",
    "     2\t\"\"\"hello with to many\"\"\"\n",
    "     3\n",
    "     4\timport sys\n",
    "     5\timport os\n",
    "     6\n",
    "     7\n",
    "     8\tdef main():\n",
    "     9\t    \"\"\"main\"\"\"\n",
    "    10\t    args = sys.argv\n",
    "    11\n",
    "    12\t    if len(args) < 2:\n",
    "    13\t        script = os.path.basename(args[0])\n",
    "    14\t        print('Usage: {} NAME [NAME2 ...]'.format(script))\n",
    "    15\t        sys.exit(1)\n",
    "    16\n",
    "    17\t    names = args[1:]\n",
    "    18\t    print('Hello, {}!'.format(', '.join(name)))\n",
    "    19\n",
    "    20\n",
    "    21\tmain()\n",
    "$ ./hello_arg5.py foo\n",
    "Hello, foo!\n",
    "$ ./hello_arg5.py foo bar baz\n",
    "Hello, foo, bar, baz!\n",
    "```\n",
    "\n",
    "Look at line 18 to see how we can `join` all the arguments on a comma-space, e.g.,:\n",
    "\n",
    "```\n",
    ">>> ', '.join(['foo', 'bar', 'baz'])\n",
    "'foo, bar, baz'\n",
    ">>> ':'.join(\"hello\")\n",
    "'h:e:l:l:o'\n",
    "```\n",
    "\n",
    "Notice the second example where we can treat a string like a list of characters.\n",
    "\n",
    "The other interesting bit on line 16 is how to take a slice of a list. We want all the elements of `args` starting at position 1, so `args[1:]`. You can indicate a start and/or end position. It's best to play with it to understand:\n",
    "\n",
    "```\n",
    ">>> x = ['foo', 'bar', 'baz']\n",
    ">>> x[1]\n",
    "'bar'\n",
    ">>> x[1:]\n",
    "['bar', 'baz']\n",
    ">>> a = \"abcdefghijklmnopqrstuvwxyz\"\n",
    ">>> a[2:4]\n",
    "'cd'\n",
    ">>> a[:3]\n",
    "'abc'\n",
    ">>> a[3:]\n",
    "'defghijklmnopqrstuvwxyz'\n",
    ">>> a[-1]\n",
    "'z'\n",
    ">>> a[-3]\n",
    "'x'\n",
    ">>> a[-3:]\n",
    "'xyz'\n",
    ">>> a[-3:26]\n",
    "'xyz'\n",
    ">>> a[-3:27]\n",
    "'xyz'\n",
    "```\n",
    "\n",
    "# Conditionals\n",
    "\n",
    "Above we saw a simple `if` condition, but what if you want to test for more then one condition?  Here is a program that shows you how to take input directly from the user:\n",
    "\n",
    "```\n",
    "$ cat -n if-else.py\n",
    "     1    #!/usr/bin/env python3\n",
    "     2    \"\"\"conditions\"\"\"\n",
    "     3\n",
    "     4    name = input('What is your name? ')\n",
    "     5    age = int(input('Hi, ' + name + '. What is your age? '))\n",
    "     6\n",
    "     7    if age < 0:\n",
    "     8        print(\"That isn't possible.\")\n",
    "     9    elif age < 18:\n",
    "    10        print('You are a minor.')\n",
    "    11    else:\n",
    "    12        print('You are an adult.')\n",
    "$ ./if-else.py\n",
    "What is your name? Geoffrey\n",
    "Hi, Geoffrey. What is your age? 47\n",
    "You are an adult.\n",
    "```\n",
    "\n",
    "On line 4, we can put the first answer into the `name` variable; however, on line 5, I convert the answer to an integer with `int` because I will need to compare it numerically, cf:\n",
    "\n",
    "```\n",
    ">>> 4 < 5\n",
    "True\n",
    ">>> '4' < 5\n",
    "Traceback (most recent call last):\n",
    "  File \"<stdin>\", line 1, in <module>\n",
    "TypeError: unorderable types: str() < int()\n",
    ">>> int('4') < 5\n",
    "True\n",
    "```\n",
    "\n",
    "## Types\n",
    "\n",
    "Which leads into the notion that Python, unlike bash, has types -- variables can hold string, integers, floating-point numbers, lists, dictionaries, and more:\n",
    "\n",
    "```\n",
    ">>> type('foo')\n",
    "<class 'str'>\n",
    ">>> type(4)\n",
    "<class 'int'>\n",
    ">>> type(3.14)\n",
    "<class 'float'>\n",
    ">>> type(['foo', 'bar'])\n",
    "<class 'list'>\n",
    ">>> type(range(1,3))\n",
    "<class 'range'>\n",
    ">>> type({'name': 'Geoffrey', 'age': 47})\n",
    "<class 'dict'>\n",
    "```\n",
    "\n",
    "As noted earlier, you can use `help` on any of the class names to find out more of what you can do with them.\n",
    "\n",
    "So let's return to the `+` operator earlier and check out how it works with different types:\n",
    "\n",
    "```\n",
    ">>> 1 + 2\n",
    "3\n",
    ">>> 'foo' + 'bar'\n",
    "'foobar'\n",
    ">>> '1' + 2\n",
    "Traceback (most recent call last):\n",
    "  File \"<stdin>\", line 1, in <module>\n",
    "TypeError: must be str, not int\n",
    "```\n",
    "\n",
    "Python will crash if you try to \"add\" two different types together, but the type of the argument depends on the run-time conditions:\n",
    "\n",
    "```\n",
    ">>> x = 4\n",
    ">>> y = 5\n",
    ">>> x + y\n",
    "9\n",
    ">>> z = '1'\n",
    ">>> x + z\n",
    "Traceback (most recent call last):\n",
    "  File \"<stdin>\", line 1, in <module>\n",
    "TypeError: unsupported operand type(s) for +: 'int' and 'str'\n",
    "```\n",
    "\n",
    "To avoid such errors, you can coerce your data:\n",
    "\n",
    "```\n",
    ">>> int(x) + int(z)\n",
    "5\n",
    "```\n",
    "\n",
    "Or check the types at run-time:\n",
    "\n",
    "```\n",
    ">>> for pair in [(1, 2), (3, '4')]:\n",
    "...    n1, n2 = pair[0], pair[1]\n",
    "...    if type(n1) == int and type(n2) == int:\n",
    "...        print('{} + {} = {}'.format(n1, n2, n1 + n2))\n",
    "...    else:\n",
    "...        print('Cannot add {} ({}) and {} ({})'.format(n1, type(n1), n2, type(n2)))\n",
    "...\n",
    "1 + 2 = 3\n",
    "Cannot add 3 (<class 'int'>) and 4 (<class 'str'>)\n",
    "```\n",
    "\n",
    "## Loops\n",
    "\n",
    "As in bash, we can use `for` loops in Python. Here's another way to greet all the people:\n",
    "\n",
    "```\n",
    "$ cat -n hello_arg6.py\n",
    "     1\t#!/usr/bin/env python3\n",
    "     2\t\"\"\"hello with to many\"\"\"\n",
    "     3\n",
    "     4\timport sys\n",
    "     5\timport os\n",
    "     6\n",
    "     7\n",
    "     8\tdef main():\n",
    "     9\t    \"\"\"main\"\"\"\n",
    "    10\t    args = sys.argv\n",
    "    11\n",
    "    12\t    if len(args) < 2:\n",
    "    13\t        script = os.path.basename(args[0])\n",
    "    14\t        print('Usage: {} NAME [NAME2 ...]'.format(script))\n",
    "    15\t        sys.exit(1)\n",
    "    16\n",
    "    17\t    for name in args[1:]:\n",
    "    18\t        print('Hello, ' + name + '!')\n",
    "    19\n",
    "    20\n",
    "    21\tmain()\n",
    "$ ./hello_arg6.py Salt Peppa\n",
    "Hello, Salt!\n",
    "Hello, Peppa!\n",
    "```\n",
    "\n",
    "You can use a `for` loop on anything that is like a list:\n",
    "\n",
    "```\n",
    ">>> for letter in \"abc\":\n",
    "...    print(letter)\n",
    "...\n",
    "a\n",
    "b\n",
    "c\n",
    ">>> for number in range(0, 5):\n",
    "...    print(number)\n",
    "...\n",
    "0\n",
    "1\n",
    "2\n",
    "3\n",
    "4\n",
    ">>> for word in ['foo', 'bar']:\n",
    "...    print(word)\n",
    "...\n",
    "foo\n",
    "bar\n",
    ">>> for word in 'We hold these truths'.split():\n",
    "...    print(word)\n",
    "...\n",
    "We\n",
    "hold\n",
    "these\n",
    "truths\n",
    ">>> for line in open('input1.txt'):\n",
    "...    print(line, end='')\n",
    "...\n",
    "this is\n",
    "some text\n",
    "from a file.\n",
    "```\n",
    "\n",
    "In each case, we're iterating over the members of a list as produced from a string, a range, an actual list, a list produced by a function, and an open file, respectively. (That last example either needs to suppress the newline from `print` or do `rstrip()` on the line to remove it as the text coming from the file has a newline.)\n",
    "\n",
    "# Stubbing new programs\n",
    "\n",
    "Every program we've seen so far has had the same basic structure:\n",
    "\n",
    "* Shebang\n",
    "* Docstring\n",
    "* imports\n",
    "* def main()\n",
    "* main()\n",
    "\n",
    "````\n",
    "#!/usr/bin/env python3\n",
    "\"\"\"program docstring\"\"\"\n",
    "\n",
    "import sys\n",
    "import os\n",
    "\n",
    "\n",
    "def main():\n",
    "    \"\"\"main\"\"\"\n",
    "    ...\n",
    "\n",
    "main()\n",
    "````\n",
    "\n",
    "Rather than type this out each time, let's use a program to help us start writing new programs. In `/rsgrps/bh_class/bin` (which should be in your `$PATH` by now), you will see `new_py.py`. (If you are working locally on your laptop -- which I **strongly** recommend you learn how -- you can find the program in `biosys-analytics/bin` which you can either copy into a directory in your `$PATH` or add that directory to your `$PATH`).\n",
    "\n",
    "Try this:\n",
    "\n",
    "````\n",
    "$ new_py.py foo\n",
    "Done, see new script \"foo.py.\"\n",
    "$ cat foo.py\n",
    "#!/usr/bin/env python3\n",
    "\"\"\"\n",
    "Author : kyclark\n",
    "Date   : 2019-01-24\n",
    "Purpose: Rock the Casbah\n",
    "\"\"\"\n",
    "\n",
    "import os\n",
    "import sys\n",
    "\n",
    "\n",
    "# --------------------------------------------------\n",
    "def main():\n",
    "    args = sys.argv[1:]\n",
    "\n",
    "    if len(args) != 1:\n",
    "        print('Usage: {} ARG'.format(os.path.basename(sys.argv[0])))\n",
    "        sys.exit(1)\n",
    "\n",
    "    arg = args[0]\n",
    "\n",
    "    print('Arg is \"{}\"'.format(arg))\n",
    "\n",
    "\n",
    "# --------------------------------------------------\n",
    "main()\n",
    "````\n",
    "\n",
    "I will not require you to use this program to write new scripts, but I do suggest it could save you time and errors. I wrote this for myself, and I use it every time I start a new program. I first wrote a program like this in the mid-90s using Perl and have always relied on stubbers since.\n",
    "\n",
    "Notice that the \".py\" extension was added for you. You may specify `foo.py` if you prefer.\n",
    "\n",
    "What happens if you try to initialize a script when one already exists with that name?\n",
    "\n",
    "````\n",
    "$ new_py.py foo\n",
    "\"foo.py\" exists.  Overwrite? [yN] n\n",
    "Will not overwrite. Bye!\n",
    "````\n",
    "\n",
    "Unless you answer \"y\", the script will not be overwritten. You could also use the `-f|--force` flag to force the overwritting of an existing file. Run with `-h|--help` to see all the options:\n",
    "\n",
    "````\n",
    "$ new_py.py -h\n",
    "usage: new_py.py [-h] [-a] [-f] program\n",
    "\n",
    "Create Python script\n",
    "\n",
    "positional arguments:\n",
    "  program         Program name\n",
    "\n",
    "optional arguments:\n",
    "  -h, --help      show this help message and exit\n",
    "  -a, --argparse  Use argparse (default: False)\n",
    "  -f, --force     Overwrite existing (default: False)\n",
    "````\n",
    "\n",
    "Hey, what is `--argparse` about? Let's try it! I will combine the two short flag `-a` and `-f` into `-fa` to \"force\" a new script that uses the \"argparse\" module to give us named options.\n",
    "\n",
    "````\n",
    "$ new_py.py -fa foo\n",
    "Done, see new script \"foo.py.\"\n",
    "[hpc:login3@~]$ cat foo.py\n",
    "#!/usr/bin/env python3\n",
    "\"\"\"\n",
    "Author : kyclark\n",
    "Date   : 2019-01-24\n",
    "Purpose: Rock the Casbah\n",
    "\"\"\"\n",
    "\n",
    "import argparse\n",
    "import sys\n",
    "\n",
    "\n",
    "# --------------------------------------------------\n",
    "def get_args():\n",
    "    \"\"\"get command-line arguments\"\"\"\n",
    "    parser = argparse.ArgumentParser(\n",
    "        description='Argparse Python script',\n",
    "        formatter_class=argparse.ArgumentDefaultsHelpFormatter)\n",
    "\n",
    "    parser.add_argument(\n",
    "        'positional', metavar='str', help='A positional argument')\n",
    "\n",
    "    parser.add_argument(\n",
    "        '-a',\n",
    "        '--arg',\n",
    "        help='A named string argument',\n",
    "        metavar='str',\n",
    "        type=str,\n",
    "        default='')\n",
    "\n",
    "    parser.add_argument(\n",
    "        '-i',\n",
    "        '--int',\n",
    "        help='A named integer argument',\n",
    "        metavar='int',\n",
    "        type=int,\n",
    "        default=0)\n",
    "\n",
    "    parser.add_argument(\n",
    "        '-f', '--flag', help='A boolean flag', action='store_true')\n",
    "\n",
    "    return parser.parse_args()\n",
    "\n",
    "\n",
    "# --------------------------------------------------\n",
    "def warn(msg):\n",
    "    \"\"\"Print a message to STDERR\"\"\"\n",
    "    print(msg, file=sys.stderr)\n",
    "\n",
    "\n",
    "# --------------------------------------------------\n",
    "def die(msg='Something bad happened'):\n",
    "    \"\"\"warn() and exit with error\"\"\"\n",
    "    warn(msg)\n",
    "    sys.exit(1)\n",
    "\n",
    "\n",
    "# --------------------------------------------------\n",
    "def main():\n",
    "    \"\"\"Make a jazz noise here\"\"\"\n",
    "    args = get_args()\n",
    "    str_arg = args.arg\n",
    "    int_arg = args.int\n",
    "    flag_arg = args.flag\n",
    "    pos_arg = args.positional\n",
    "\n",
    "    print('str_arg = \"{}\"'.format(str_arg))\n",
    "    print('int_arg = \"{}\"'.format(int_arg))\n",
    "    print('flag_arg = \"{}\"'.format(flag_arg))\n",
    "    print('positional = \"{}\"'.format(pos_arg))\n",
    "\n",
    "\n",
    "# --------------------------------------------------\n",
    "if __name__ == '__main__':\n",
    "    main()\n",
    "````\n",
    "\n",
    "The advantage here is that we can now get quite detailed help documentation and very specific behavior from our arguments, e.g., one argument needs to be a string while another needs to be a number while another is a true/false, off/on flag:\n",
    "\n",
    "````\n",
    "$ ./foo.py -h\n",
    "usage: foo.py [-h] [-a str] [-i int] [-f] str\n",
    "\n",
    "Argparse Python script\n",
    "\n",
    "positional arguments:\n",
    "  str                A positional argument\n",
    "\n",
    "optional arguments:\n",
    "  -h, --help         show this help message and exit\n",
    "  -a str, --arg str  A named string argument (default: )\n",
    "  -i int, --int int  A named integer argument (default: 0)\n",
    "  -f, --flag         A boolean flag (default: False)\n",
    "````\n",
    "\n",
    "All this without writing a line of Python! Quite useful."
   ]
  },
  {
   "cell_type": "code",
   "execution_count": null,
   "metadata": {},
   "outputs": [],
   "source": []
  }
 ],
 "metadata": {
  "kernelspec": {
   "display_name": "Python 3",
   "language": "python",
   "name": "python3"
  },
  "language_info": {
   "codemirror_mode": {
    "name": "ipython",
    "version": 3
   },
   "file_extension": ".py",
   "mimetype": "text/x-python",
   "name": "python",
   "nbconvert_exporter": "python",
   "pygments_lexer": "ipython3",
   "version": "3.6.8"
  }
 },
 "nbformat": 4,
 "nbformat_minor": 2
}
